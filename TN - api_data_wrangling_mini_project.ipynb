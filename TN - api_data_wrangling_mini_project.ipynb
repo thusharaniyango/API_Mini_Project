{
 "cells": [
  {
   "cell_type": "markdown",
   "metadata": {},
   "source": [
    "This exercise will require you to pull some data from https://data.nasdaq.com/ (formerly Quandl API)."
   ]
  },
  {
   "cell_type": "markdown",
   "metadata": {},
   "source": [
    "As a first step, you will need to register a free account on the https://data.nasdaq.com/ website."
   ]
  },
  {
   "cell_type": "markdown",
   "metadata": {},
   "source": [
    "After you register, you will be provided with a unique API key, that you should store:\n",
    "\n",
    "*Note*: Use a `.env` file and put your key in there and `python-dotenv` to access it in this notebook. \n",
    "\n",
    "The code below uses a key that was used when generating this project but has since been deleted. Never submit your keys to source control. There is a `.env-example` file in this repository to illusrtate what you need. Copy that to a file called `.env` and use your own api key in that `.env` file. Make sure you also have a `.gitignore` file with a line for `.env` added to it. \n",
    "\n",
    "The standard Python gitignore is [here](https://github.com/github/gitignore/blob/master/Python.gitignore) you can just copy that. "
   ]
  },
  {
   "cell_type": "code",
   "execution_count": 1,
   "metadata": {},
   "outputs": [
    {
     "name": "stdout",
     "output_type": "stream",
     "text": [
      "vQqkxAr3pHN11jhV__Vg\n"
     ]
    }
   ],
   "source": [
    "# get api key from your .env file\n",
    "import os\n",
    "from dotenv import load_dotenv\n",
    "\n",
    "load_dotenv()\n",
    "API_KEY = os.getenv('NASDAQ_API_KEY')\n",
    "\n",
    "print(API_KEY)"
   ]
  },
  {
   "cell_type": "markdown",
   "metadata": {},
   "source": [
    "Nasdaq Data has a large number of data sources, but, unfortunately, most of them require a Premium subscription. Still, there are also a good number of free datasets."
   ]
  },
  {
   "cell_type": "markdown",
   "metadata": {},
   "source": [
    "For this mini project, we will focus on equities data from the Frankfurt Stock Exhange (FSE), which is available for free. We'll try and analyze the stock prices of a company called Carl Zeiss Meditec, which manufactures tools for eye examinations, as well as medical lasers for laser eye surgery: https://www.zeiss.com/meditec/int/home.html. The company is listed under the stock ticker AFX_X."
   ]
  },
  {
   "cell_type": "markdown",
   "metadata": {},
   "source": [
    "You can find the detailed Nasdaq Data API instructions here: https://docs.data.nasdaq.com/docs/in-depth-usage"
   ]
  },
  {
   "cell_type": "markdown",
   "metadata": {},
   "source": [
    "While there is a dedicated Python package for connecting to the Nasdaq API, we would prefer that you use the *requests* package, which can be easily downloaded using *pip* or *conda*. You can find the documentation for the package here: http://docs.python-requests.org/en/master/ "
   ]
  },
  {
   "cell_type": "markdown",
   "metadata": {},
   "source": [
    "Finally, apart from the *requests* package, you are encouraged to not use any third party Python packages, such as *pandas*, and instead focus on what's available in the Python Standard Library (the *collections* module might come in handy: https://pymotw.com/3/collections/).\n",
    "Also, since you won't have access to DataFrames, you are encouraged to us Python's native data structures - preferably dictionaries, though some questions can also be answered using lists.\n",
    "You can read more on these data structures here: https://docs.python.org/3/tutorial/datastructures.html"
   ]
  },
  {
   "cell_type": "markdown",
   "metadata": {},
   "source": [
    "Keep in mind that the JSON responses you will be getting from the API map almost one-to-one to Python's dictionaries. Unfortunately, they can be very nested, so make sure you read up on indexing dictionaries in the documentation provided above."
   ]
  },
  {
   "cell_type": "code",
   "execution_count": 2,
   "metadata": {},
   "outputs": [],
   "source": [
    "# First, import the relevant modules\\\n",
    "import requests\n",
    "import json"
   ]
  },
  {
   "cell_type": "markdown",
   "metadata": {},
   "source": [
    "Note: API's can change a bit with each version, for this exercise it is reccomended to use the nasdaq api at `https://data.nasdaq.com/api/v3/`. This is the same api as what used to be quandl so `https://www.quandl.com/api/v3/` should work too.\n",
    "\n",
    "Hint: We are looking for the `AFX_X` data on the `datasets/FSE/` dataset."
   ]
  },
  {
   "cell_type": "code",
   "execution_count": 3,
   "metadata": {},
   "outputs": [],
   "source": [
    "# Now, call the Nasdaq API and pull out a small sample of the data (only one day) to get a glimpse\n",
    "# into the JSON structure that will be returned\n",
    "\n",
    "#this is calling for FSE/AFX_X \n",
    "url = 'https://data.nasdaq.com/api/v3/datasets/FSE/AFX_X/data.json?api_key=vQqkxAr3pHN11jhV__Vg'\n",
    "resp = requests.get(url)"
   ]
  },
  {
   "cell_type": "code",
   "execution_count": 4,
   "metadata": {},
   "outputs": [
    {
     "data": {
      "text/plain": [
       "<Response [200]>"
      ]
     },
     "execution_count": 4,
     "metadata": {},
     "output_type": "execute_result"
    }
   ],
   "source": [
    "resp"
   ]
  },
  {
   "cell_type": "code",
   "execution_count": 5,
   "metadata": {},
   "outputs": [],
   "source": [
    "# Inspect the JSON structure of the object you created, and take note of how nested it is,\n",
    "# as well as the overall structure\n",
    "json_data = resp.json()"
   ]
  },
  {
   "cell_type": "code",
   "execution_count": 6,
   "metadata": {},
   "outputs": [
    {
     "data": {
      "text/plain": [
       "dict"
      ]
     },
     "execution_count": 6,
     "metadata": {},
     "output_type": "execute_result"
    }
   ],
   "source": [
    "type(json_data)"
   ]
  },
  {
   "cell_type": "code",
   "execution_count": 7,
   "metadata": {},
   "outputs": [],
   "source": [
    "#json_data"
   ]
  },
  {
   "cell_type": "code",
   "execution_count": 8,
   "metadata": {},
   "outputs": [],
   "source": [
    "json_year_data = json_data['dataset_data']['data']"
   ]
  },
  {
   "cell_type": "code",
   "execution_count": 9,
   "metadata": {},
   "outputs": [
    {
     "data": {
      "text/plain": [
       "list"
      ]
     },
     "execution_count": 9,
     "metadata": {},
     "output_type": "execute_result"
    }
   ],
   "source": [
    "type(json_year_data)"
   ]
  },
  {
   "cell_type": "code",
   "execution_count": 10,
   "metadata": {},
   "outputs": [],
   "source": [
    "#json_year_data"
   ]
  },
  {
   "cell_type": "code",
   "execution_count": 11,
   "metadata": {},
   "outputs": [],
   "source": [
    "data_2017 = [record for record in json_year_data if record[0].startswith('2017')]"
   ]
  },
  {
   "cell_type": "markdown",
   "metadata": {},
   "source": [
    "These are your tasks for this mini project:\n",
    "\n",
    "1. Collect data from the Franfurt Stock Exchange, for the ticker AFX_X, for the whole year 2017 (keep in mind that the date format is YYYY-MM-DD).\n",
    "2. Convert the returned JSON object into a Python dictionary.\n",
    "3. Calculate what the highest and lowest opening prices were for the stock in this period.\n",
    "4. What was the largest change in any one day (based on High and Low price)?\n",
    "5. What was the largest change between any two days (based on Closing Price)?\n",
    "6. What was the average daily trading volume during this year?\n",
    "7. (Optional) What was the median trading volume during this year. (Note: you may need to implement your own function for calculating the median.)"
   ]
  },
  {
   "cell_type": "code",
   "execution_count": 12,
   "metadata": {},
   "outputs": [],
   "source": [
    "#1.  Collect data from the Franfurt Stock Exchange, for the ticker AFX_X, for the whole year 2017 (keep in mind that the date format is YYYY-MM-DD).\n",
    "data_YR17 = [record for record in json_year_data if record[0].startswith('2017')]"
   ]
  },
  {
   "cell_type": "code",
   "execution_count": 13,
   "metadata": {},
   "outputs": [],
   "source": [
    "#this is 2017 data\n",
    "#data_YR17"
   ]
  },
  {
   "cell_type": "code",
   "execution_count": 14,
   "metadata": {},
   "outputs": [],
   "source": [
    "# 2. Convert the returned JSON object into a Python dictionary.\n",
    "dict_YR17 = {record[0]: record[1:] for record in data_YR17}"
   ]
  },
  {
   "cell_type": "code",
   "execution_count": 15,
   "metadata": {},
   "outputs": [],
   "source": [
    "#dict_YR17"
   ]
  },
  {
   "cell_type": "code",
   "execution_count": 16,
   "metadata": {},
   "outputs": [
    {
     "name": "stdout",
     "output_type": "stream",
     "text": [
      "Highest value : 53.54\n",
      "Lowest value : 33.62\n"
     ]
    }
   ],
   "source": [
    "# 3. Calculate what the highest and lowest opening prices were for the stock in this period.\n",
    "first_pair = next(iter((dict_YR17.items())) )\n",
    "highest=first_pair[1][1]\n",
    "lowest=first_pair[1][2]\n",
    "# print(\"Begin highest \", highest)\n",
    "# print(\"Begin lowest \", lowest)\n",
    "for key, value in dict_YR17.items():\n",
    "      #print(value[1])\n",
    "      if value[1]>highest:\n",
    "         highest = value[1]\n",
    "         #print(highest)\n",
    "      elif value[2]<lowest:\n",
    "         lowest = value[2]\n",
    "         #print(lowest)\n",
    "\n",
    "print(\"Highest value :\",highest)\n",
    "print(\"Lowest value :\",lowest)"
   ]
  },
  {
   "cell_type": "code",
   "execution_count": 17,
   "metadata": {},
   "outputs": [],
   "source": [
    "# 4. What was the largest change in any one day (based on High and Low price)?\n",
    "first_pair = next(iter((dict_YR17.items())) )\n",
    "#print(first_pair)\n",
    "theDay = first_pair[0]\n",
    "#print(\".....\", theDay)\n",
    "# highest=first_pair[1][1]\n",
    "# lowest=first_pair[1][2]\n",
    "change = first_pair[1][1] - first_pair[1][2]\n",
    "#print(change)\n",
    "for key, value in dict_YR17.items():\n",
    "      #print(key)\n",
    "      if change < value[1]-value[2]:\n",
    "         change = value[1]-value[2]\n",
    "         theDay = key\n",
    "         #print(change, theDay)\n",
    "            \n",
    "#print(\"The largest change is :\", f\"{change:.2f}\", \"On \", theDay)\n"
   ]
  },
  {
   "cell_type": "code",
   "execution_count": 18,
   "metadata": {},
   "outputs": [
    {
     "name": "stdout",
     "output_type": "stream",
     "text": [
      "The largest change is : 2.81 On  2017-05-11\n"
     ]
    }
   ],
   "source": [
    "print(\"The largest change is :\", f\"{change:.2f}\", \"On \", theDay)"
   ]
  },
  {
   "cell_type": "code",
   "execution_count": 19,
   "metadata": {},
   "outputs": [],
   "source": [
    "#5. What was the largest change between any two days (based on Closing Price)?\n",
    "first_pair = next(iter((dict_YR17.items())) )\n",
    "#print(first_pair)\n",
    "close_pr = [first_pair[1][3]]\n",
    "for key, value in dict_YR17.items():\n",
    "    close_pr.append(value[3])\n",
    "\n",
    "#print(close_pr)\n",
    "#print(type(close_pr))\n",
    "daily_change = close_pr[1] - close_pr[2]\n",
    "for i in range(0, len(close_pr) - 1):\n",
    "    #daily_ch = close_pr[i] - close_pr[i+1]\n",
    "    if close_pr[i] - close_pr[i+1] > daily_change:\n",
    "        daily_change = close_pr[i] - close_pr[i+1]\n",
    "        \n",
    "#print(daily_change)"
   ]
  },
  {
   "cell_type": "code",
   "execution_count": 20,
   "metadata": {},
   "outputs": [
    {
     "name": "stdout",
     "output_type": "stream",
     "text": [
      "The largest change between any two days (based on Closing Price) 1.72\n"
     ]
    }
   ],
   "source": [
    "print(\"The largest change between any two days (based on Closing Price)\", f\"{daily_change:.2f}\")"
   ]
  },
  {
   "cell_type": "code",
   "execution_count": 21,
   "metadata": {},
   "outputs": [],
   "source": [
    "# 6.  What was the average daily trading volume during this year?\n",
    "daily_trading = []\n",
    "first_pair = next(iter((dict_YR17.items())) )\n",
    "#print(first_pair[1][5])\n",
    "daily_trading = [first_pair[1][5]]\n",
    "#print(daily_trading)\n",
    "for key, value in dict_YR17.items():\n",
    "    daily_trading.append(value[1])\n",
    "    \n",
    "#print(daily_trading) \n",
    "avg_daily_trading = sum(daily_trading) / len(daily_trading)"
   ]
  },
  {
   "cell_type": "code",
   "execution_count": 22,
   "metadata": {},
   "outputs": [
    {
     "name": "stdout",
     "output_type": "stream",
     "text": [
      "The average daily trading volume during this year 178.84\n"
     ]
    }
   ],
   "source": [
    "print(\"The average daily trading volume during this year\", f\"{avg_daily_trading:.2f}\")"
   ]
  },
  {
   "cell_type": "code",
   "execution_count": 23,
   "metadata": {},
   "outputs": [],
   "source": [
    "# 7. What was the median trading volume during this year.\n",
    "#find the median of a list\n",
    "def find_median(the_list):\n",
    "    sorted_list = sorted(the_list)\n",
    "    total_count = len(the_list)\n",
    "    if total_count == 0: #the_list is empty\n",
    "        return none\n",
    "    if total_count % 2 == 1: #the_list is odd\n",
    "        return sorted_list[total_count // 2]\n",
    "    else:\n",
    "        mid1 = sorted_list[(total_count -1) // 2]\n",
    "        mid2 = sorted_list[total_count // 2]\n",
    "        return (mid1 + mid2) / 2\n",
    "\n",
    "# create the list for 'traded volume'\n",
    "traded_volume = []\n",
    "for key, value in dict_YR17.items():\n",
    "    traded_volume.append(value[5])\n",
    "    \n",
    "median_traded_volume = find_median(traded_volume)\n",
    "#print(median_traded_volume)"
   ]
  },
  {
   "cell_type": "code",
   "execution_count": 24,
   "metadata": {},
   "outputs": [
    {
     "name": "stdout",
     "output_type": "stream",
     "text": [
      "The median trading volume during this year 76286.0\n"
     ]
    }
   ],
   "source": [
    "print(\"The median trading volume during this year\", median_traded_volume)"
   ]
  }
 ],
 "metadata": {
  "interpreter": {
   "hash": "7635eb1b9d0fe97add78a7368b6b431c09bb8ad5c42e437d64abdd99821c31ae"
  },
  "kernelspec": {
   "display_name": "Python 3 (ipykernel)",
   "language": "python",
   "name": "python3"
  },
  "language_info": {
   "codemirror_mode": {
    "name": "ipython",
    "version": 3
   },
   "file_extension": ".py",
   "mimetype": "text/x-python",
   "name": "python",
   "nbconvert_exporter": "python",
   "pygments_lexer": "ipython3",
   "version": "3.11.4"
  }
 },
 "nbformat": 4,
 "nbformat_minor": 4
}
